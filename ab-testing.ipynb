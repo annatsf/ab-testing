{
  "cells": [
    {
      "cell_type": "markdown",
      "metadata": {
        "id": "nqVqOY3IAIiJ"
      },
      "source": [
        "# **Data base**"
      ]
    },
    {
      "cell_type": "code",
      "execution_count": 12,
      "metadata": {
        "colab": {
          "base_uri": "https://localhost:8080/",
          "height": 206
        },
        "id": "_TgrrHk5JIRW",
        "outputId": "0037cb41-560d-49f9-fbfe-c43c400123b5"
      },
      "outputs": [
        {
          "data": {
            "text/html": [
              "<div>\n",
              "<style scoped>\n",
              "    .dataframe tbody tr th:only-of-type {\n",
              "        vertical-align: middle;\n",
              "    }\n",
              "\n",
              "    .dataframe tbody tr th {\n",
              "        vertical-align: top;\n",
              "    }\n",
              "\n",
              "    .dataframe thead th {\n",
              "        text-align: right;\n",
              "    }\n",
              "</style>\n",
              "<table border=\"1\" class=\"dataframe\">\n",
              "  <thead>\n",
              "    <tr style=\"text-align: right;\">\n",
              "      <th></th>\n",
              "      <th>uid</th>\n",
              "      <th>id</th>\n",
              "      <th>country</th>\n",
              "      <th>gender</th>\n",
              "      <th>group</th>\n",
              "      <th>dt</th>\n",
              "      <th>total_spent</th>\n",
              "      <th>group.1</th>\n",
              "      <th>join_dt</th>\n",
              "      <th>device</th>\n",
              "      <th>join_dt.1</th>\n",
              "    </tr>\n",
              "  </thead>\n",
              "  <tbody>\n",
              "    <tr>\n",
              "      <th>0</th>\n",
              "      <td>1000000</td>\n",
              "      <td>1000000</td>\n",
              "      <td>CAN</td>\n",
              "      <td>M</td>\n",
              "      <td>B</td>\n",
              "      <td>NaN</td>\n",
              "      <td>0.0</td>\n",
              "      <td>B</td>\n",
              "      <td>2023-01-28</td>\n",
              "      <td>I</td>\n",
              "      <td>2023-01-28</td>\n",
              "    </tr>\n",
              "    <tr>\n",
              "      <th>1</th>\n",
              "      <td>1000001</td>\n",
              "      <td>1000001</td>\n",
              "      <td>BRA</td>\n",
              "      <td>M</td>\n",
              "      <td>A</td>\n",
              "      <td>NaN</td>\n",
              "      <td>0.0</td>\n",
              "      <td>A</td>\n",
              "      <td>2023-01-27</td>\n",
              "      <td>A</td>\n",
              "      <td>2023-01-27</td>\n",
              "    </tr>\n",
              "    <tr>\n",
              "      <th>2</th>\n",
              "      <td>1000002</td>\n",
              "      <td>1000002</td>\n",
              "      <td>FRA</td>\n",
              "      <td>M</td>\n",
              "      <td>A</td>\n",
              "      <td>NaN</td>\n",
              "      <td>0.0</td>\n",
              "      <td>A</td>\n",
              "      <td>2023-02-01</td>\n",
              "      <td>A</td>\n",
              "      <td>2023-02-01</td>\n",
              "    </tr>\n",
              "    <tr>\n",
              "      <th>3</th>\n",
              "      <td>1000003</td>\n",
              "      <td>1000003</td>\n",
              "      <td>BRA</td>\n",
              "      <td>M</td>\n",
              "      <td>B</td>\n",
              "      <td>NaN</td>\n",
              "      <td>0.0</td>\n",
              "      <td>B</td>\n",
              "      <td>2023-01-25</td>\n",
              "      <td>I</td>\n",
              "      <td>2023-01-25</td>\n",
              "    </tr>\n",
              "    <tr>\n",
              "      <th>4</th>\n",
              "      <td>1000004</td>\n",
              "      <td>1000004</td>\n",
              "      <td>DEU</td>\n",
              "      <td>F</td>\n",
              "      <td>A</td>\n",
              "      <td>NaN</td>\n",
              "      <td>0.0</td>\n",
              "      <td>A</td>\n",
              "      <td>2023-02-04</td>\n",
              "      <td>A</td>\n",
              "      <td>2023-02-04</td>\n",
              "    </tr>\n",
              "  </tbody>\n",
              "</table>\n",
              "</div>"
            ],
            "text/plain": [
              "       uid       id country gender group   dt  total_spent group.1   \n",
              "0  1000000  1000000     CAN      M     B  NaN          0.0       B  \\\n",
              "1  1000001  1000001     BRA      M     A  NaN          0.0       A   \n",
              "2  1000002  1000002     FRA      M     A  NaN          0.0       A   \n",
              "3  1000003  1000003     BRA      M     B  NaN          0.0       B   \n",
              "4  1000004  1000004     DEU      F     A  NaN          0.0       A   \n",
              "\n",
              "      join_dt device   join_dt.1  \n",
              "0  2023-01-28      I  2023-01-28  \n",
              "1  2023-01-27      A  2023-01-27  \n",
              "2  2023-02-01      A  2023-02-01  \n",
              "3  2023-01-25      I  2023-01-25  \n",
              "4  2023-02-04      A  2023-02-04  "
            ]
          },
          "execution_count": 12,
          "metadata": {},
          "output_type": "execute_result"
        }
      ],
      "source": [
        "import pandas as pd\n",
        "import numpy as np\n",
        "from scipy.stats import norm\n",
        "import matplotlib.pyplot as plt\n",
        "# import seaborn as sns\n",
        "from scipy import stats\n",
        "\n",
        "df = pd.read_csv('full_table.csv')\n",
        "df.head()"
      ]
    },
    {
      "cell_type": "markdown",
      "metadata": {
        "id": "wWWuEx_oVYRG"
      },
      "source": [
        "# **Confirming test results**.\n",
        "Our target randomization unit of the test – individual users. It makes a convenient experimental unit and compare the average spent and conversion rate across two groups.\n",
        "The groups have significant size and roughly comparable and have similar demographics"
      ]
    },
    {
      "cell_type": "code",
      "execution_count": 13,
      "metadata": {
        "colab": {
          "base_uri": "https://localhost:8080/"
        },
        "id": "S9TENfR9Vav0",
        "outputId": "7cbbacf3-d4d9-4401-bb49-e7105a0e916f"
      },
      "outputs": [
        {
          "name": "stdout",
          "output_type": "stream",
          "text": [
            "groupds are roughly comparable:\n",
            "%             uid\n",
            "group          \n",
            "A      49.73745\n",
            "B      50.26255\n",
            "The testing period is: 12 days 00:00:00\n"
          ]
        }
      ],
      "source": [
        "# Are groups the same size?\n",
        "results = df.groupby('group').agg({'uid':pd.Series.nunique})\n",
        "unique_users = len(df.uid.unique())\n",
        "results = results / unique_users * 100\n",
        "print(f'groupds are roughly comparable:\\n'\n",
        "      f'% {results}')\n",
        "\n",
        "# Convert the 'date' column to a datetime object\n",
        "df['dt'] = pd.to_datetime(df['dt'])\n",
        "\n",
        "# Calculate the period between the smallest date and the last date\n",
        "period = df['dt'].max() - df['dt'].min()\n",
        "\n",
        "print(f\"The testing period is: {period}\")"
      ]
    },
    {
      "cell_type": "markdown",
      "metadata": {
        "id": "T-MNfssuATMZ"
      },
      "source": [
        "Is our group random?"
      ]
    },
    {
      "cell_type": "code",
      "execution_count": 14,
      "metadata": {
        "colab": {
          "base_uri": "https://localhost:8080/"
        },
        "id": "A8xUNWR_93zQ",
        "outputId": "691b5859-5b68-42a0-cee3-1fd4b4f3c535"
      },
      "outputs": [
        {
          "name": "stdout",
          "output_type": "stream",
          "text": [
            "                      uid\n",
            "group gender device      \n",
            "A     F      A       12.7\n",
            "             I        7.8\n",
            "      M      A       12.7\n",
            "             I        7.7\n",
            "      O      A        1.0\n",
            "             I        0.6\n",
            "B     F      A       12.8\n",
            "             I        7.6\n",
            "      M      A       12.8\n",
            "             I        8.0\n",
            "      O      A        1.2\n",
            "             I        0.6\n",
            "Result is truly random\n"
          ]
        }
      ],
      "source": [
        "# Do our groups have similar demographics?\n",
        "results = df.groupby(\n",
        "    by = ['group', 'gender','device']).agg({'uid':pd.Series.nunique})\n",
        "# Find the overall number of unique users using \"len\" and \"unique\"\n",
        "unique_users = len(df.uid.unique())\n",
        "\n",
        "# Find the percentage in each group\n",
        "results = round((results / unique_users * 100), 1)\n",
        "print(results)\n",
        "print('Result is truly random')"
      ]
    },
    {
      "cell_type": "markdown",
      "metadata": {
        "id": "tk3Tdeyn0tuE"
      },
      "source": [
        "# **Caulculation of the size of each group and number of converted users**\n"
      ]
    },
    {
      "cell_type": "code",
      "execution_count": 15,
      "metadata": {
        "colab": {
          "base_uri": "https://localhost:8080/"
        },
        "id": "s3J7tzeQYcCC",
        "outputId": "f31dc41b-38fa-4a43-a484-625708303b23"
      },
      "outputs": [
        {
          "name": "stdout",
          "output_type": "stream",
          "text": [
            "Control Group:\n",
            "Number of unique uid: 24343\n",
            "Number of users with total_spent > 0 (CONVERTED): 1014\n",
            "\n",
            "Treatment Group:\n",
            "Number of unique uid: 24600\n",
            "Number of users with total_spent > 0 (CONVERTED): 1219\n",
            "\n"
          ]
        }
      ],
      "source": [
        "import numpy as np\n",
        "import pandas as pd\n",
        "from scipy.stats import t\n",
        "import scipy.stats as stats\n",
        "import math\n",
        "from scipy.stats import norm\n",
        "\n",
        "# Convert the 'total_spent' column to a valid data type\n",
        "df['total_spent'] = df['total_spent'].astype(float)\n",
        "df['total_spent'] = pd.to_numeric(df['total_spent'], errors='coerce')\n",
        "\n",
        "# Drop rows with missing values in the 'total_spent' column\n",
        "df = df[df['total_spent'].notna()]\n",
        "\n",
        "# Create a new column called 'converted' that indicates whether or not a user was converted\n",
        "df['converted'] = df['total_spent'] > 0\n",
        "\n",
        "# Split the DataFrame into two groups based on the 'group' column\n",
        "group_a = df[df['group'] == 'A']\n",
        "group_b = df[df['group'] == 'B']\n",
        "\n",
        "# Calculate the number of uid and the number of users with total_spent > 0 for each group\n",
        "num_uid_group_a = len(group_a['uid'].unique())\n",
        "num_uid_group_b = len(group_b['uid'].unique())\n",
        "\n",
        "# Calculate the number of converted users in group B\n",
        "num_converted_b = len(df[(df['group'] == 'B') & (df['converted'] == True)])\n",
        "num_converted_a = len(df[(df['group'] == 'A') & (df['converted'] == True)])\n",
        "\n",
        "print(f'Control Group:\\n'\n",
        "      f'Number of unique uid: {num_uid_group_a}\\n'\n",
        "      f'Number of users with total_spent > 0 (CONVERTED): {num_converted_a}\\n')\n",
        "print(f'Treatment Group:\\n'\n",
        "      f'Number of unique uid: {num_uid_group_b}\\n'\n",
        "      f'Number of users with total_spent > 0 (CONVERTED): {num_converted_b}\\n')"
      ]
    },
    {
      "cell_type": "markdown",
      "metadata": {
        "id": "bc_bY1lMaFtu"
      },
      "source": [
        "# **Conversion Rate of the population.**"
      ]
    },
    {
      "cell_type": "code",
      "execution_count": 16,
      "metadata": {
        "colab": {
          "base_uri": "https://localhost:8080/"
        },
        "id": "_ZaoOV1yaCe5",
        "outputId": "ab771296-9326-47b7-e278-573f2f166315"
      },
      "outputs": [
        {
          "name": "stdout",
          "output_type": "stream",
          "text": [
            "Conversion rate: 4.59%\n",
            "Variation: 8.988561731417552e-07\n",
            "Standard error: 0.000948080256698638\n",
            "\n",
            "The conversion rate doesn't vary a lot among users - it will be easy to detect a change\n"
          ]
        }
      ],
      "source": [
        "# Calculate conversion rate of the population \n",
        "num_users = num_uid_group_a + num_uid_group_a\n",
        "\n",
        "converted_users = num_converted_b + num_converted_a\n",
        "conversion_rate = converted_users / num_users\n",
        "\n",
        "# Calculate the variance and standard error for the population\n",
        "var = (conversion_rate * (1 - conversion_rate))/num_users\n",
        "se = var**0.5\n",
        "\n",
        "print(\"Conversion rate: {:.2%}\".format(conversion_rate))\n",
        "print(f'Variation: {var}\\n'\n",
        "     f'Standard error: {se}\\n')\n",
        "print(\"The conversion rate doesn't vary a lot among users - it will be easy to detect a change\")"
      ]
    },
    {
      "cell_type": "markdown",
      "metadata": {
        "id": "By4LkcvbZ3T2"
      },
      "source": [
        "# **Conversion Rate of the control and treatment group**"
      ]
    },
    {
      "cell_type": "code",
      "execution_count": 17,
      "metadata": {
        "colab": {
          "base_uri": "https://localhost:8080/"
        },
        "id": "TDT366o9YvLv",
        "outputId": "9e3dc15c-7b1c-449a-b47b-fa44573a5dcb"
      },
      "outputs": [
        {
          "name": "stdout",
          "output_type": "stream",
          "text": [
            "Conversion rate for control group: 4.17% , std  = 0.0012805775693302019\n",
            "Conversion rate for treatment group: 4.96% , std  = 0.00138366429132097\n"
          ]
        }
      ],
      "source": [
        "# Calculate conversion rate for Group A\n",
        "group_a_conversion_rate = (num_converted_a / num_uid_group_a) \n",
        "# Compute the standard deviation\n",
        "control_sd = ((group_a_conversion_rate * (1 - group_a_conversion_rate)) / num_uid_group_a)**0.5\n",
        "\n",
        "print(\"Conversion rate for control group: {:.2%}\".format(group_a_conversion_rate),f', std  = {control_sd}')\n",
        "\n",
        "# Calculate conversion rate for Group B\n",
        "group_b_conversion_rate = (num_converted_b / num_uid_group_b) \n",
        "# Compute the standard deviation\n",
        "treatment_sd = ((group_b_conversion_rate * (1 - group_b_conversion_rate)) / num_uid_group_b)**0.5\n",
        "\n",
        "print(\"Conversion rate for treatment group: {:.2%}\".format(group_b_conversion_rate),f', std  = {treatment_sd}')"
      ]
    },
    {
      "cell_type": "markdown",
      "metadata": {
        "id": "ou0tXd512OEX"
      },
      "source": [
        "# **95% confidence intervals** for the conversion rate of users in the control and treatment group"
      ]
    },
    {
      "cell_type": "code",
      "execution_count": 18,
      "metadata": {
        "colab": {
          "base_uri": "https://localhost:8080/"
        },
        "id": "qGBrVQfG2OnP",
        "outputId": "0fa67313-7a34-4721-843e-de8052a452a2"
      },
      "outputs": [
        {
          "name": "stdout",
          "output_type": "stream",
          "text": [
            "95% Confidence interval for the conversion rate of users in the control group: (0.03914479920979025, 0.044164571040384334)\n",
            "95% Confidence interval for the conversion rate of users in the treatmen group: (0.04684091335077205, 0.05226477770613852)\n",
            "Variance control group: 1.6398789110716478e-06\n",
            "Variance treatment group: 1.9145268710767617e-06\n",
            "Standard deviation control group: 0.0012805775693302019\n",
            "Standard deviation  treatment group: 0.00138366429132097\n"
          ]
        }
      ],
      "source": [
        "# Calculate the confidential interval of the conversion rate Group A\n",
        "std_error_a = np.sqrt(group_a_conversion_rate * (1 - group_a_conversion_rate) / num_uid_group_a)\n",
        "margin_of_error_a = norm.ppf(0.975) * std_error_a\n",
        "conf_interval_a = (group_a_conversion_rate - margin_of_error_a, group_a_conversion_rate + margin_of_error_a)\n",
        "print(\"95% Confidence interval for the conversion rate of users in the control group:\", conf_interval_a)\n",
        "\n",
        "# Calculate the confidential interval of the conversion rate Group B\n",
        "std_error_b = np.sqrt(group_b_conversion_rate * (1 - group_b_conversion_rate) / num_uid_group_b)\n",
        "margin_of_error_b = norm.ppf(0.975) * std_error_b\n",
        "conf_interval_b = (group_b_conversion_rate - margin_of_error_b, group_b_conversion_rate + margin_of_error_b)\n",
        "print(\"95% Confidence interval for the conversion rate of users in the treatmen group:\", conf_interval_b)\n",
        "\n",
        "# Calculate the variance \n",
        "variance_a = (group_a_conversion_rate * (1 - group_a_conversion_rate)) / num_uid_group_a\n",
        "variance_b = (group_b_conversion_rate * (1 - group_b_conversion_rate)) / num_uid_group_b\n",
        "print(f'Variance control group: {variance_a}\\n'\n",
        "      f'Variance treatment group: {variance_b}')\n",
        "\n",
        "# Calculate the standard deviations\n",
        "control_sd = ((group_a_conversion_rate * (1 - group_a_conversion_rate)) / num_uid_group_a)**0.5\n",
        "treatment_sd = ((group_b_conversion_rate * (1 - group_b_conversion_rate)) / num_uid_group_b)**0.5\n",
        "print(f'Standard deviation control group: {control_sd}\\n'\n",
        "      f'Standard deviation  treatment group: {treatment_sd}')"
      ]
    },
    {
      "cell_type": "markdown",
      "metadata": {
        "id": "8zgzALJb7-J3"
      },
      "source": [
        "# **95% Confidence Interval for Difference in Conversion Rate**"
      ]
    },
    {
      "cell_type": "code",
      "execution_count": 19,
      "metadata": {
        "colab": {
          "base_uri": "https://localhost:8080/",
          "height": 470
        },
        "id": "rwKDFEsH4dhe",
        "outputId": "2ab593f9-9089-456f-e61f-5740364a4785"
      },
      "outputs": [
        {
          "name": "stdout",
          "output_type": "stream",
          "text": [
            "95% confidence interval for the difference in conversion rates: [0.0042, 0.0116]\n"
          ]
        },
        {
          "data": {
            "image/png": "[encoded data removed]",
            "text/plain": [
              "<Figure size 640x480 with 1 Axes>"
            ]
          },
          "metadata": {},
          "output_type": "display_data"
        }
      ],
      "source": [
        "# calculate confidence interval for difference treatment and control group\n",
        "alpha = 0.05\n",
        "z = stats.norm.ppf(1 - alpha/2)\n",
        "\n",
        "# Calculate unpooled standard error\n",
        "se_diff = np.sqrt(std_error_a**2 + std_error_b**2)\n",
        "\n",
        "# Calculate the difference in conversion rates\n",
        "diff = group_b_conversion_rate - group_a_conversion_rate\n",
        "\n",
        "# Calculate the margin of error\n",
        "margin_of_error = z * se_diff\n",
        "\n",
        "# Calculate the confidence interval\n",
        "ci_lower = diff - margin_of_error\n",
        "ci_upper = diff + margin_of_error\n",
        "\n",
        "print(f\"95% confidence interval for the difference in conversion rates: [{ci_lower:.4f}, {ci_upper:.4f}]\")\n",
        "\n",
        "# plot bar chart with error bars\n",
        "fig, ax = plt.subplots()\n",
        "ax.bar(['Control Group', 'Treatment Group'], [group_a_conversion_rate, group_b_conversion_rate], yerr=[std_error_a, std_error_b], capsize=30, color= ['orange', 'blue'])\n",
        "\n",
        "ax.set_ylim([0, 0.06])\n",
        "ax.set_ylabel('Conversion rate')\n",
        "ax.set_title('95% Confidence Interval for Difference in Conversion Rate')\n",
        "\n",
        "plt.show()\n",
        "\n",
        "\n"
      ]
    },
    {
      "cell_type": "markdown",
      "metadata": {
        "id": "ATRs6F8G8Qme"
      },
      "source": [
        "# **Plotting the distribution**\n",
        " visualize the test and control conversion rates as distributions. "
      ]
    },
    {
      "cell_type": "code",
      "execution_count": 20,
      "metadata": {
        "colab": {
          "base_uri": "https://localhost:8080/",
          "height": 467
        },
        "id": "0HQkF1yd8S53",
        "outputId": "6528d1fe-7a71-4ff1-97c9-ab4d7306d428"
      },
      "outputs": [
        {
          "name": "stdout",
          "output_type": "stream",
          "text": [
            "0.7898160403367989\n"
          ]
        },
        {
          "data": {
            "image/png": "[encoded data removed]",
            "text/plain": [
              "<Figure size 640x480 with 1 Axes>"
            ]
          },
          "metadata": {},
          "output_type": "display_data"
        }
      ],
      "source": [
        "# Create the range of x values \n",
        "control_line = np.linspace(group_a_conversion_rate - 3 * control_sd, group_a_conversion_rate + 3 * control_sd, 100)\n",
        "test_line = np.linspace(group_b_conversion_rate - 3 * treatment_sd, group_b_conversion_rate + 3 * treatment_sd, 100)\n",
        "d = group_b_conversion_rate*100 - group_a_conversion_rate*100\n",
        "\n",
        "print(d)\n",
        "# Plot the distribution     \n",
        "plt.plot(control_line, norm.pdf(control_line, group_a_conversion_rate, control_sd), label='Control Group')\n",
        "plt.plot(test_line, norm.pdf(test_line, group_b_conversion_rate, treatment_sd), label='Treatment Group')\n",
        "plt.axvline(x=group_a_conversion_rate, linestyle='--', color='blue')\n",
        "plt.axvline(x=group_b_conversion_rate, linestyle='--', color='orange')\n",
        "\n",
        "# Add title and axes names\n",
        "#plt.title('Distribution of Conversion Rates')\n",
        "plt.xlabel('Conversion Rate')\n",
        "plt.ylabel('Probability Density')\n",
        "plt.legend()\n",
        "plt.show()"
      ]
    },
    {
      "cell_type": "markdown",
      "metadata": {
        "id": "w-epNhaNrEVc"
      },
      "source": [
        "# **p-value**"
      ]
    },
    {
      "cell_type": "code",
      "execution_count": 21,
      "metadata": {
        "colab": {
          "base_uri": "https://localhost:8080/"
        },
        "id": "irKAd61qgm-B",
        "outputId": "3ef7751b-265c-49d4-e529-e94fa2f9df26"
      },
      "outputs": [
        {
          "name": "stdout",
          "output_type": "stream",
          "text": [
            "Test statistic: 4.187\n",
            "p-value: 0.00003\n",
            "Conclusion: There is evidence of a difference in conversion rates between the two groups. We reject the null hypothesis.\n"
          ]
        }
      ],
      "source": [
        "# use normal distribution and 5% significance level. use pooled proportion for the standard error, \n",
        "# use two-sample two-sided z-interval for difference in proportions, pooled standard error. \n",
        "\n",
        "# Calculate the pooled proportion\n",
        "pooled_proportion = (num_converted_a + num_converted_b) / (num_uid_group_a + num_uid_group_b)\n",
        "\n",
        "# Calculate the standard error using the pooled proportion\n",
        "pooled_standard_error = np.sqrt(pooled_proportion * (1 - pooled_proportion) \n",
        "* (1 / num_uid_group_a + 1 / num_uid_group_b))\n",
        "\n",
        "# Calculate the difference in proportions\n",
        "prop_diff = num_converted_b / num_uid_group_b - num_converted_a / num_uid_group_a\n",
        "\n",
        "# Calculate the z-interval\n",
        "z_critical = norm.ppf(0.975)  # 5% significance level (two-tailed)\n",
        "\n",
        "# Calculate the p-value\n",
        "z_stat = prop_diff / pooled_standard_error\n",
        "p_value = 2 * (1 - norm.cdf(abs(z_stat)))  # two-sided\n",
        "\n",
        "# Print the results\n",
        "print(f'Test statistic: {z_stat:.3f}')\n",
        "# print(f\"95% Confidence interval: [{ci_lower:.5f}, {ci_upper:.5f}]\")\n",
        "print(f\"p-value: {p_value:.5f}\")\n",
        "if p_value <= 0.05:\n",
        "    print('Conclusion: There is evidence of a difference in conversion rates between the two groups. We reject the null hypothesis.')\n",
        "else:\n",
        "    print('Conclusion: There is not enough evidence to conclude that there is a difference in conversion rates between the two groups.')\n"
      ]
    },
    {
      "cell_type": "markdown",
      "metadata": {
        "id": "S0D0gDRd_RJi"
      },
      "source": [
        "# **Plotting the difference distribution**\n",
        "Plot a green vertical line at the distributions mean, and a red vertical lines at each of the lower and upper confidence interval bounds. "
      ]
    },
    {
      "cell_type": "code",
      "execution_count": 22,
      "metadata": {
        "colab": {
          "base_uri": "https://localhost:8080/",
          "height": 490
        },
        "id": "AsOyN5zn8zYH",
        "outputId": "d2935942-fd8a-463f-ac3b-117d1f8b0f26"
      },
      "outputs": [
        {
          "name": "stdout",
          "output_type": "stream",
          "text": [
            "Confidence Interval for the lift observed 0.7898160403367993\n"
          ]
        },
        {
          "data": {
            "image/png": "[encoded data removed]",
            "text/plain": [
              "<Figure size 640x480 with 1 Axes>"
            ]
          },
          "metadata": {},
          "output_type": "display_data"
        }
      ],
      "source": [
        "# Find the lift mean and standard deviation\n",
        "lift_mean = group_b_conversion_rate - group_a_conversion_rate\n",
        "lift_sd = (variance_a + variance_b) ** 0.5\n",
        "\n",
        "# Generate the range of x-values\n",
        "lift_line = np.linspace(lift_mean - 3 * lift_sd, lift_mean + 3 * lift_sd, 100)\n",
        "print('Confidence Interval for the lift observed', lift_mean*100)\n",
        "# Plot the lift distribution\n",
        "plt.plot(lift_line, norm.pdf(lift_line, lift_mean, lift_sd))\n",
        "\n",
        "# Add the annotation lines\n",
        "plt.axvline(x = lift_mean, color = 'green')\n",
        "plt.axvline(x = ci_lower, color = 'red')\n",
        "plt.axvline(x = ci_upper, color = 'red')\n",
        "plt.title(f'      Difference distribution confidence interval = [{ci_lower:.4f}, {ci_upper:.4f}]')\n",
        "#plt.title('Difference in Conversion Rate')\n",
        "plt.xlabel('Conversion Rate Lift')\n",
        "\n",
        "plt.show()"
      ]
    }
  ],
  "metadata": {
    "colab": {
      "provenance": []
    },
    "kernelspec": {
      "display_name": "Python 3",
      "language": "python",
      "name": "python3"
    },
    "language_info": {
      "codemirror_mode": {
        "name": "ipython",
        "version": 3
      },
      "file_extension": ".py",
      "mimetype": "text/x-python",
      "name": "python",
      "nbconvert_exporter": "python",
      "pygments_lexer": "ipython3",
      "version": "3.11.2"
    },
    "vscode": {
      "interpreter": {
        "hash": "aee8b7b246df8f9039afb4144a1f6fd8d2ca17a180786b69acc140d282b71a49"
      }
    }
  },
  "nbformat": 4,
  "nbformat_minor": 0
}
